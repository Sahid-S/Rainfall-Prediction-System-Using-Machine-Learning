{
 "cells": [
  {
   "cell_type": "markdown",
   "id": "f97f9c01",
   "metadata": {},
   "source": [
    "# Rainfall Prediction Model\n",
    "This notebook loads a rainfall dataset, processes the data, trains two models (Linear Regression and Random Forest), evaluates their performance, and visualizes results."
   ]
  },
  {
   "cell_type": "code",
   "execution_count": null,
   "id": "3c0c225b",
   "metadata": {},
   "outputs": [],
   "source": [
    "import pandas as pd\n",
    "import numpy as np\n",
    "import joblib\n",
    "from sklearn.model_selection import train_test_split\n",
    "from sklearn.linear_model import LinearRegression\n",
    "from sklearn.ensemble import RandomForestRegressor\n",
    "from sklearn.preprocessing import LabelEncoder, StandardScaler\n",
    "from sklearn.metrics import mean_absolute_error, mean_squared_error, r2_score\n",
    "import matplotlib.pyplot as plt\n",
    "import seaborn as sns\n",
    "import warnings\n",
    "warnings.filterwarnings(\"ignore\")\n",
    "sns.set(style=\"whitegrid\")\n"
   ]
  },
  {
   "cell_type": "code",
   "execution_count": null,
   "id": "92768ce0",
   "metadata": {},
   "outputs": [],
   "source": [
    "# Load dataset\n",
    "df = pd.read_csv(\"D:\\\\My Work\\\\Rainfall\\\\rainfall.csv\")\n",
    "\n",
    "# Fill missing values\n",
    "df.fillna(df.mean(numeric_only=True), inplace=True)\n",
    "\n",
    "# Encode categorical feature\n",
    "le = LabelEncoder()\n",
    "df['SUBDIVISION_ENC'] = le.fit_transform(df['SUBDIVISION'])\n",
    "\n",
    "# Scale year\n",
    "scaler = StandardScaler()\n",
    "df['YEAR_SCALED'] = scaler.fit_transform(df[['YEAR']])\n",
    "df.head()\n"
   ]
  },
  {
   "cell_type": "code",
   "execution_count": null,
   "id": "b7d94fe8",
   "metadata": {},
   "outputs": [],
   "source": [
    "# Monthly data transformation\n",
    "months = ['JAN', 'FEB', 'MAR', 'APR', 'MAY', 'JUN', 'JUL', 'AUG', 'SEP', 'OCT', 'NOV', 'DEC']\n",
    "\n",
    "records = []\n",
    "for _, row in df.iterrows():\n",
    "    for i, month in enumerate(months):\n",
    "        records.append({\n",
    "            'SUBDIVISION_ENC': row['SUBDIVISION_ENC'],\n",
    "            'YEAR': row['YEAR'],\n",
    "            'MONTH_NUM': i + 1,\n",
    "            'RAINFALL': row[month]\n",
    "        })\n",
    "\n",
    "monthly_df = pd.DataFrame(records)\n",
    "monthly_df.head()\n"
   ]
  },
  {
   "cell_type": "code",
   "execution_count": null,
   "id": "d1f7abe8",
   "metadata": {},
   "outputs": [],
   "source": [
    "plt.figure(figsize=(12, 6))\n",
    "sns.lineplot(data=monthly_df.groupby('MONTH_NUM')['RAINFALL'].mean().reset_index(), x='MONTH_NUM', y='RAINFALL', marker='o')\n",
    "plt.title(\"Average Rainfall by Month\")\n",
    "plt.xlabel(\"Month\")\n",
    "plt.ylabel(\"Rainfall (mm)\")\n",
    "plt.xticks(range(1, 13))\n",
    "plt.grid(True)\n",
    "plt.show()\n"
   ]
  },
  {
   "cell_type": "code",
   "execution_count": null,
   "id": "5afaebb1",
   "metadata": {},
   "outputs": [],
   "source": [
    "train_df = monthly_df[monthly_df['YEAR'] <= 2005]\n",
    "test_df = monthly_df[monthly_df['YEAR'] > 2005]\n",
    "\n",
    "features = ['SUBDIVISION_ENC', 'YEAR', 'MONTH_NUM']\n",
    "X_train = train_df[features]\n",
    "y_train = train_df['RAINFALL']\n",
    "X_test = test_df[features]\n",
    "y_test = test_df['RAINFALL']\n"
   ]
  },
  {
   "cell_type": "code",
   "execution_count": null,
   "id": "b2f19c01",
   "metadata": {},
   "outputs": [],
   "source": [
    "lr = LinearRegression()\n",
    "lr.fit(X_train, y_train)\n",
    "\n",
    "rf = RandomForestRegressor(n_estimators=100, random_state=42)\n",
    "rf.fit(X_train, y_train)\n"
   ]
  },
  {
   "cell_type": "code",
   "execution_count": null,
   "id": "ff8b8208",
   "metadata": {},
   "outputs": [],
   "source": [
    "def evaluate(model, name):\n",
    "    preds = model.predict(X_test)\n",
    "    print(f\"\\n{name} Evaluation\")\n",
    "    print(\"MAE:\", mean_absolute_error(y_test, preds))\n",
    "    print(\"RMSE:\", np.sqrt(mean_squared_error(y_test, preds)))\n",
    "    print(\"R²:\", r2_score(y_test, preds))\n",
    "    return preds\n",
    "\n",
    "lr_preds = evaluate(lr, \"Linear Regression\")\n",
    "rf_preds = evaluate(rf, \"Random Forest\")\n"
   ]
  },
  {
   "cell_type": "code",
   "execution_count": null,
   "id": "ea671e0d",
   "metadata": {},
   "outputs": [],
   "source": [
    "errors = {\n",
    "    \"Model\": [\"Linear Regression\", \"Random Forest\"],\n",
    "    \"MAE\": [mean_absolute_error(y_test, lr_preds), mean_absolute_error(y_test, rf_preds)],\n",
    "    \"RMSE\": [np.sqrt(mean_squared_error(y_test, lr_preds)), np.sqrt(mean_squared_error(y_test, rf_preds))],\n",
    "    \"R2\": [r2_score(y_test, lr_preds), r2_score(y_test, rf_preds)]\n",
    "}\n",
    "\n",
    "error_df = pd.DataFrame(errors)\n",
    "\n",
    "plt.figure(figsize=(12, 4))\n",
    "for i, metric in enumerate([\"MAE\", \"RMSE\", \"R2\"]):\n",
    "    plt.subplot(1, 3, i+1)\n",
    "    sns.barplot(data=error_df, x=\"Model\", y=metric)\n",
    "    plt.title(metric)\n",
    "    plt.tight_layout()\n",
    "\n",
    "plt.show()\n"
   ]
  },
  {
   "cell_type": "code",
   "execution_count": null,
   "id": "c453aa48",
   "metadata": {},
   "outputs": [],
   "source": [
    "plt.figure(figsize=(12, 5))\n",
    "\n",
    "plt.subplot(1, 2, 1)\n",
    "sns.scatterplot(x=y_test, y=lr_preds, alpha=0.5)\n",
    "plt.title(\"Linear Regression: Actual vs Predicted\")\n",
    "plt.xlabel(\"Actual Rainfall\")\n",
    "plt.ylabel(\"Predicted Rainfall\")\n",
    "\n",
    "plt.subplot(1, 2, 2)\n",
    "sns.scatterplot(x=y_test, y=rf_preds, alpha=0.5)\n",
    "plt.title(\"Random Forest: Actual vs Predicted\")\n",
    "plt.xlabel(\"Actual Rainfall\")\n",
    "plt.ylabel(\"Predicted Rainfall\")\n",
    "\n",
    "plt.tight_layout()\n",
    "plt.show()\n"
   ]
  },
  {
   "cell_type": "code",
   "execution_count": null,
   "id": "9c5846b7",
   "metadata": {},
   "outputs": [],
   "source": [
    "joblib.dump(lr, \"linear_regression_model.pkl\")\n",
    "joblib.dump(rf, \"random_forest_model.pkl\")\n",
    "joblib.dump(le, \"label_encoder.pkl\")\n",
    "joblib.dump(scaler, \"year_scaler.pkl\")\n"
   ]
  }
 ],
 "metadata": {},
 "nbformat": 4,
 "nbformat_minor": 5
}